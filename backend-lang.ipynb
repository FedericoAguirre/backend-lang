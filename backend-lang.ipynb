{
 "metadata": {
  "language_info": {
   "codemirror_mode": {
    "name": "ipython",
    "version": 3
   },
   "file_extension": ".py",
   "mimetype": "text/x-python",
   "name": "python",
   "nbconvert_exporter": "python",
   "pygments_lexer": "ipython3",
   "version": "3.8.13-final"
  },
  "orig_nbformat": 2,
  "kernelspec": {
   "name": "python3",
   "display_name": "Python 3.8.13 64-bit",
   "metadata": {
    "interpreter": {
     "hash": "1ee38ef4a5a9feb55287fd749643f13d043cb0a7addaab2a9c224cbe137c0062"
    }
   }
  }
 },
 "nbformat": 4,
 "nbformat_minor": 2,
 "cells": [
  {
   "cell_type": "code",
   "execution_count": 45,
   "metadata": {},
   "outputs": [
    {
     "output_type": "stream",
     "name": "stdout",
     "text": [
      "Requirement already satisfied: pandas in /usr/local/lib/python3.8/site-packages (1.4.2)\n",
      "Requirement already satisfied: numpy>=1.18.5 in /usr/local/lib/python3.8/site-packages (from pandas) (1.22.4)\n",
      "Requirement already satisfied: python-dateutil>=2.8.1 in /Users/federicoaguirre/Library/Python/3.8/lib/python/site-packages (from pandas) (2.8.1)\n",
      "Requirement already satisfied: pytz>=2020.1 in /usr/local/lib/python3.8/site-packages (from pandas) (2021.1)\n",
      "Requirement already satisfied: six>=1.5 in /usr/local/lib/python3.8/site-packages (from python-dateutil>=2.8.1->pandas) (1.15.0)\n",
      "Note: you may need to restart the kernel to use updated packages.\n"
     ]
    }
   ],
   "source": [
    "pip install pandas"
   ]
  },
  {
   "source": [
    "# First backend language"
   ],
   "cell_type": "markdown",
   "metadata": {}
  },
  {
   "source": [
    "import pandas as pd\n",
    "\n",
    "lang_df = pd.read_csv(\"Heatmap - Backend.csv\", sep=\",\", header=0) #, keep_default_na=False)\n",
    "lang_df.head(5)"
   ],
   "cell_type": "code",
   "metadata": {},
   "execution_count": 46,
   "outputs": [
    {
     "output_type": "execute_result",
     "data": {
      "text/plain": [
       "  Opcion1 Opcion2 Opcion3 Opcion4 Opcion5\n",
       "0      Go     NaN     NaN     NaN     NaN\n",
       "1    Java  Python     NaN     NaN     NaN\n",
       "2  Kotlin     NaN     NaN     NaN     NaN\n",
       "3    Java      Go  Nodejs     NaN     NaN\n",
       "4  Python     NaN     NaN     NaN     NaN"
      ],
      "text/html": "<div>\n<style scoped>\n    .dataframe tbody tr th:only-of-type {\n        vertical-align: middle;\n    }\n\n    .dataframe tbody tr th {\n        vertical-align: top;\n    }\n\n    .dataframe thead th {\n        text-align: right;\n    }\n</style>\n<table border=\"1\" class=\"dataframe\">\n  <thead>\n    <tr style=\"text-align: right;\">\n      <th></th>\n      <th>Opcion1</th>\n      <th>Opcion2</th>\n      <th>Opcion3</th>\n      <th>Opcion4</th>\n      <th>Opcion5</th>\n    </tr>\n  </thead>\n  <tbody>\n    <tr>\n      <th>0</th>\n      <td>Go</td>\n      <td>NaN</td>\n      <td>NaN</td>\n      <td>NaN</td>\n      <td>NaN</td>\n    </tr>\n    <tr>\n      <th>1</th>\n      <td>Java</td>\n      <td>Python</td>\n      <td>NaN</td>\n      <td>NaN</td>\n      <td>NaN</td>\n    </tr>\n    <tr>\n      <th>2</th>\n      <td>Kotlin</td>\n      <td>NaN</td>\n      <td>NaN</td>\n      <td>NaN</td>\n      <td>NaN</td>\n    </tr>\n    <tr>\n      <th>3</th>\n      <td>Java</td>\n      <td>Go</td>\n      <td>Nodejs</td>\n      <td>NaN</td>\n      <td>NaN</td>\n    </tr>\n    <tr>\n      <th>4</th>\n      <td>Python</td>\n      <td>NaN</td>\n      <td>NaN</td>\n      <td>NaN</td>\n      <td>NaN</td>\n    </tr>\n  </tbody>\n</table>\n</div>"
     },
     "metadata": {},
     "execution_count": 46
    }
   ]
  },
  {
   "cell_type": "code",
   "execution_count": 47,
   "metadata": {},
   "outputs": [
    {
     "output_type": "execute_result",
     "data": {
      "text/plain": [
       "  Opcion1 Opcion2 Opcion3 Opcion4 Opcion5  tieneOpcion1  tieneOpcion2  \\\n",
       "0      Go     NaN     NaN     NaN     NaN          True         False   \n",
       "1    Java  Python     NaN     NaN     NaN          True          True   \n",
       "2  Kotlin     NaN     NaN     NaN     NaN          True         False   \n",
       "3    Java      Go  Nodejs     NaN     NaN          True          True   \n",
       "4  Python     NaN     NaN     NaN     NaN          True         False   \n",
       "\n",
       "   tieneOpcion3  tieneOpcion4  tieneOpcion5  \n",
       "0         False         False         False  \n",
       "1         False         False         False  \n",
       "2         False         False         False  \n",
       "3          True         False         False  \n",
       "4         False         False         False  "
      ],
      "text/html": "<div>\n<style scoped>\n    .dataframe tbody tr th:only-of-type {\n        vertical-align: middle;\n    }\n\n    .dataframe tbody tr th {\n        vertical-align: top;\n    }\n\n    .dataframe thead th {\n        text-align: right;\n    }\n</style>\n<table border=\"1\" class=\"dataframe\">\n  <thead>\n    <tr style=\"text-align: right;\">\n      <th></th>\n      <th>Opcion1</th>\n      <th>Opcion2</th>\n      <th>Opcion3</th>\n      <th>Opcion4</th>\n      <th>Opcion5</th>\n      <th>tieneOpcion1</th>\n      <th>tieneOpcion2</th>\n      <th>tieneOpcion3</th>\n      <th>tieneOpcion4</th>\n      <th>tieneOpcion5</th>\n    </tr>\n  </thead>\n  <tbody>\n    <tr>\n      <th>0</th>\n      <td>Go</td>\n      <td>NaN</td>\n      <td>NaN</td>\n      <td>NaN</td>\n      <td>NaN</td>\n      <td>True</td>\n      <td>False</td>\n      <td>False</td>\n      <td>False</td>\n      <td>False</td>\n    </tr>\n    <tr>\n      <th>1</th>\n      <td>Java</td>\n      <td>Python</td>\n      <td>NaN</td>\n      <td>NaN</td>\n      <td>NaN</td>\n      <td>True</td>\n      <td>True</td>\n      <td>False</td>\n      <td>False</td>\n      <td>False</td>\n    </tr>\n    <tr>\n      <th>2</th>\n      <td>Kotlin</td>\n      <td>NaN</td>\n      <td>NaN</td>\n      <td>NaN</td>\n      <td>NaN</td>\n      <td>True</td>\n      <td>False</td>\n      <td>False</td>\n      <td>False</td>\n      <td>False</td>\n    </tr>\n    <tr>\n      <th>3</th>\n      <td>Java</td>\n      <td>Go</td>\n      <td>Nodejs</td>\n      <td>NaN</td>\n      <td>NaN</td>\n      <td>True</td>\n      <td>True</td>\n      <td>True</td>\n      <td>False</td>\n      <td>False</td>\n    </tr>\n    <tr>\n      <th>4</th>\n      <td>Python</td>\n      <td>NaN</td>\n      <td>NaN</td>\n      <td>NaN</td>\n      <td>NaN</td>\n      <td>True</td>\n      <td>False</td>\n      <td>False</td>\n      <td>False</td>\n      <td>False</td>\n    </tr>\n  </tbody>\n</table>\n</div>"
     },
     "metadata": {},
     "execution_count": 47
    }
   ],
   "source": [
    "lang_df[\"tieneOpcion1\"] = lang_df[\"Opcion1\"].notna()\n",
    "lang_df[\"tieneOpcion2\"] = lang_df[\"Opcion2\"].notna()\n",
    "lang_df[\"tieneOpcion3\"] = lang_df[\"Opcion3\"].notna()\n",
    "lang_df[\"tieneOpcion4\"] = lang_df[\"Opcion4\"].notna()\n",
    "lang_df[\"tieneOpcion5\"] = lang_df[\"Opcion5\"].notna()\n",
    "lang_df.head(5)"
   ]
  },
  {
   "cell_type": "code",
   "execution_count": 48,
   "metadata": {},
   "outputs": [
    {
     "output_type": "execute_result",
     "data": {
      "text/plain": [
       "Python    37\n",
       "Go        26\n",
       "Java      26\n",
       "C++       18\n",
       "Nodejs    18\n",
       "C#        13\n",
       "Rust      12\n",
       "Ruby       8\n",
       "PHP        7\n",
       "Elixir     3\n",
       "Kotlin     2\n",
       "Cobol      2\n",
       "Scala      1\n",
       "Perl       1\n",
       "Pascal     1\n",
       "Haskel     1\n",
       "Name: Opcion1, dtype: int64"
      ]
     },
     "metadata": {},
     "execution_count": 48
    }
   ],
   "source": [
    "opcion1_df = lang_df[\"Opcion1\"].value_counts()\n",
    "opcion1_df"
   ]
  },
  {
   "cell_type": "code",
   "execution_count": 49,
   "metadata": {},
   "outputs": [
    {
     "output_type": "execute_result",
     "data": {
      "text/plain": [
       "Python    23\n",
       "Nodejs    14\n",
       "C#         8\n",
       "Java       8\n",
       "Go         5\n",
       "Ruby       3\n",
       "PHP        3\n",
       "C++        3\n",
       "Scala      1\n",
       "Rust       1\n",
       "Kotlin     1\n",
       "Name: Opcion2, dtype: int64"
      ]
     },
     "metadata": {},
     "execution_count": 49
    }
   ],
   "source": [
    "opcion2_df = lang_df[\"Opcion2\"].value_counts()\n",
    "opcion2_df"
   ]
  },
  {
   "cell_type": "code",
   "execution_count": 50,
   "metadata": {},
   "outputs": [
    {
     "output_type": "execute_result",
     "data": {
      "text/plain": [
       "Nodejs    8\n",
       "Python    7\n",
       "Java      3\n",
       "Go        3\n",
       "PHP       2\n",
       "Ruby      1\n",
       "C#        1\n",
       "Kotlin    1\n",
       "Name: Opcion3, dtype: int64"
      ]
     },
     "metadata": {},
     "execution_count": 50
    }
   ],
   "source": [
    "opcion3_df = lang_df[\"Opcion3\"].value_counts()\n",
    "opcion3_df"
   ]
  },
  {
   "cell_type": "code",
   "execution_count": 51,
   "metadata": {},
   "outputs": [
    {
     "output_type": "execute_result",
     "data": {
      "text/plain": [
       "Nodejs    2\n",
       "Go        1\n",
       "Python    1\n",
       "C#        1\n",
       "Rust      1\n",
       "Java      1\n",
       "Name: Opcion4, dtype: int64"
      ]
     },
     "metadata": {},
     "execution_count": 51
    }
   ],
   "source": [
    "opcion4_df = lang_df[\"Opcion4\"].value_counts()\n",
    "opcion4_df"
   ]
  },
  {
   "cell_type": "code",
   "execution_count": 52,
   "metadata": {},
   "outputs": [
    {
     "output_type": "execute_result",
     "data": {
      "text/plain": [
       "PHP     2\n",
       "Rust    1\n",
       "C++     1\n",
       "Name: Opcion5, dtype: int64"
      ]
     },
     "metadata": {},
     "execution_count": 52
    }
   ],
   "source": [
    "opcion5_df = lang_df[\"Opcion5\"].value_counts()\n",
    "opcion5_df"
   ]
  },
  {
   "cell_type": "code",
   "execution_count": 53,
   "metadata": {},
   "outputs": [
    {
     "output_type": "execute_result",
     "data": {
      "text/plain": [
       "Python    68\n",
       "Nodejs    42\n",
       "Java      38\n",
       "Go        35\n",
       "C#        23\n",
       "C++       22\n",
       "Rust      15\n",
       "PHP       14\n",
       "Ruby      12\n",
       "Kotlin     4\n",
       "Elixir     3\n",
       "Scala      2\n",
       "Cobol      2\n",
       "Perl       1\n",
       "Pascal     1\n",
       "Haskel     1\n",
       "dtype: int64"
      ]
     },
     "metadata": {},
     "execution_count": 53
    }
   ],
   "source": [
    "\n",
    "combinado_df = pd.Series(lang_df[\"Opcion1\"].append(lang_df[\"Opcion2\"]).append(lang_df[\"Opcion3\"]).append(lang_df[\"Opcion4\"]).append(lang_df[\"Opcion5\"]))\n",
    "combinado_df.value_counts()\n",
    "\n",
    "\n"
   ]
  },
  {
   "cell_type": "code",
   "execution_count": null,
   "metadata": {},
   "outputs": [],
   "source": []
  }
 ]
}